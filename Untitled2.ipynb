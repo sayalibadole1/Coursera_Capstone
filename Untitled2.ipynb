{
 "cells": [
  {
   "cell_type": "raw",
   "id": "37c2883a-16b6-424a-a5e6-1e2a13acb5b1",
   "metadata": {},
   "source": [
    "intro to github"
   ]
  },
  {
   "cell_type": "code",
   "execution_count": 2,
   "id": "25ccefac-34c6-491f-91ea-879350f12663",
   "metadata": {},
   "outputs": [],
   "source": [
    "import pandas as pd\n",
    "import numpy as np"
   ]
  },
  {
   "cell_type": "code",
   "execution_count": 3,
   "id": "1e39a19d-a843-4bfa-b5de-438b69c217e4",
   "metadata": {},
   "outputs": [
    {
     "name": "stdout",
     "output_type": "stream",
     "text": [
      "Hello Capstone Project Course!\n"
     ]
    }
   ],
   "source": [
    "print(\"Hello Capstone Project Course!\")"
   ]
  }
 ],
 "metadata": {
  "kernelspec": {
   "display_name": "Python",
   "language": "python",
   "name": "conda-env-python-py"
  },
  "language_info": {
   "codemirror_mode": {
    "name": "ipython",
    "version": 3
   },
   "file_extension": ".py",
   "mimetype": "text/x-python",
   "name": "python",
   "nbconvert_exporter": "python",
   "pygments_lexer": "ipython3",
   "version": "3.6.13"
  }
 },
 "nbformat": 4,
 "nbformat_minor": 5
}
